{
 "cells": [
  {
   "cell_type": "markdown",
   "metadata": {},
   "source": [
    "#### Bivariate Transformations\n",
    "* discrete bivariate random vector\n",
    "* continuous bivariate random vector \n",
    "                                                              4.40.c\n",
    "* Fomula of total probability\n",
    "                                                              4.51  4.53\n",
    "* definition and properties\n",
    "                                                              4.52  4.53 4.54\n",
    "#### Marginal Distribution and Conditional Distribution          \n",
    "         \n",
    "                                                                4.40.b  4.48\n",
    "\n",
    "#### Expectations and Covariance\n",
    "* $E(XY)=E(XE(Y|X))$ \n",
    "                                                              4.40.d\n",
    "\n",
    "* $Cov(X,Y)=E(XY)-E(X)E(Y)$ \n",
    "                                                              4.40.d  4.43\n",
    "\n",
    "* $\\sigma_X^2 = E(X^2) - E^2 (X)$\n",
    "                                                              4.42\n",
    "\n",
    "* $\\rho_{x,y}=\\frac{Cov(x,y)}{\\sigma_x \\sigma_y}$\n",
    "                                                              4.42\n",
    "\n",
    "* $Var(X)=E(X-E(X))^2, E(X+Y)^2 = E(X^2 + 2XY +Y^2)$\n",
    "                                                              4.44\n",
    "* $Var(Y)=E[Var(Y∣X)]+Var[E(Y∣X)]$\n",
    "                                                              4.50\n",
    "                                                             \n",
    "* $E(YE(Y|X))=E(E(YE(Y|X)|X))=E(E(Y|X)E(Y|X))=E((E(Y|X))^2)$                                                                                                                     \n",
    "                                                              4.58(c)  \n",
    "\n",
    "* $E(Cov(X, Y|Z)) = E(E(XY|Z) − E(X|Z)E(Y|Z))$ ???\n",
    "                                                              4.59\n",
    "\n",
    "#### Multivariate Normal Distribution\n",
    "                                                                4.45 4.46 4.50\n",
    "                                                   "
   ]
  },
  {
   "cell_type": "markdown",
   "metadata": {},
   "source": [
    "#### Unclastered\n",
    "4.41  4.47\n"
   ]
  },
  {
   "cell_type": "code",
   "execution_count": null,
   "metadata": {},
   "outputs": [],
   "source": []
  }
 ],
 "metadata": {
  "kernelspec": {
   "display_name": "Python 3",
   "language": "python",
   "name": "python3"
  },
  "language_info": {
   "codemirror_mode": {
    "name": "ipython",
    "version": 3
   },
   "file_extension": ".py",
   "mimetype": "text/x-python",
   "name": "python",
   "nbconvert_exporter": "python",
   "pygments_lexer": "ipython3",
   "version": "3.6.4"
  }
 },
 "nbformat": 4,
 "nbformat_minor": 2
}
