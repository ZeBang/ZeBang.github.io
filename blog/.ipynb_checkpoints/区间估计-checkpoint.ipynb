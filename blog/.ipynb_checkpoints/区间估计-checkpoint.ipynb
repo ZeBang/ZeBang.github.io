{
 "cells": [
  {
   "cell_type": "markdown",
   "metadata": {},
   "source": [
    "## 区间估计\n",
    "\n",
    "参数估计有两种方案：点估计和区间估计.\n",
    "\n",
    "所谓“估计”，就是一个样本函数，它从样本空间映射到参数空间.\n",
    "\n",
    "点估计是得出参数空间中的一个点，区间估计是得出参数空间中的一个区间(这个区间的得出也是通过一个统计量得出，这个统计量称为枢轴量，或某个大样本统计量).\n",
    "\n",
    "“估计”的本质是样本函数，因而“估计”亦是一个随机变量，存在分布.\n",
    "\n",
    "点估计围绕估计的分布性质讨论(无偏性，相合性，渐进正态，有效性，均方误差准则).\n",
    "\n",
    "区间估计围绕枢轴量或大样本统计量的分布性质(MLE渐进正态，中心极限定理)讨论(置信度，置信限，样本量)..\n",
    "\n",
    "#### 通过枢轴量求置信区间\n",
    "\n",
    "几个重要结论\n",
    "* $exp(\\lambda)=Ga(1,\\lambda)$\n",
    "* $X \\sim Ga(\\alpha,\\lambda)$, 则$2\\lambda X\\sim \\chi^2(2)$\n"
   ]
  },
  {
   "cell_type": "markdown",
   "metadata": {},
   "source": [
    "均匀分布$U(0,\\theta)$寻求$\\theta$的置信区间，枢轴量取$G(\\widehat{\\theta},\\theta)=x_{(n)}/\\theta$.\n",
    "\n",
    "指数分布$exp(1/\\theta)$寻求$\\theta$的置信区间，枢轴量取$G(\\widehat{\\theta},\\theta)=\\sum_{i=1}^n x_{i} \\sim Ga(n,1/\\theta)$\n",
    "\n",
    "正态分布$N(\\mu,\\sigma^2)$寻求$\\mu$的置信区间，枢轴量根据$\\sigma$是否已知取$G=\\frac{\\sqrt{n}(\\overline{x}-\\mu)}{\\sigma}$和$G=\\frac{\\sqrt{n}(\\overline{x}-\\mu)}{s}$\n",
    "\n",
    "正态分布$N(\\mu,\\sigma^2)$寻求$\\sigma^2$的置信区间，枢轴量取$\\frac{Q}{\\sigma^2}$"
   ]
  },
  {
   "cell_type": "markdown",
   "metadata": {},
   "source": [
    "正态分布区间估计样本量的确定\n",
    "\n",
    "两正态均值差的置信区间\n",
    "\n",
    "二维参数的置信域"
   ]
  }
 ],
 "metadata": {
  "kernelspec": {
   "display_name": "Python 3",
   "language": "python",
   "name": "python3"
  },
  "language_info": {
   "codemirror_mode": {
    "name": "ipython",
    "version": 3
   },
   "file_extension": ".py",
   "mimetype": "text/x-python",
   "name": "python",
   "nbconvert_exporter": "python",
   "pygments_lexer": "ipython3",
   "version": "3.6.4"
  }
 },
 "nbformat": 4,
 "nbformat_minor": 2
}
