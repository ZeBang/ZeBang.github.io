{
 "cells": [
  {
   "cell_type": "markdown",
   "metadata": {},
   "source": [
    "## 概率论"
   ]
  },
  {
   "cell_type": "markdown",
   "metadata": {},
   "source": [
    "#### $\\S$ 3.5.3 边缘分布\n",
    "* 用$\\eta_{r}$表示可列重Bernouli试验中第$r$次成功等待的时间，则在$\\eta_{1}=i$的条件下，$\\eta_{2}-i \\sim G(p)$\n",
    "* 联合密度函数可以唯一确定边缘密度函数，反之不一定成立，参见例3.5.5，参见例3.5.7\n",
    "\n",
    "#### $\\S$ 3.5.4 二元均匀分布与二元正态分布\n",
    "\n",
    "#### $\\S$ 3.5.5 练习题"
   ]
  },
  {
   "cell_type": "markdown",
   "metadata": {},
   "source": [
    "### $\\S$ 3.6 随机变量的条件分布与独立性\n",
    "\n",
    "#### $\\S$ 3.6.1 条件分布\n",
    "* 条件密度可以通过联合密度来计算：先计算联合密度和边缘密度，然后再相除\n",
    "* 联合密度也可以通过条件密度和对应的边缘密度的乘积来计算\n",
    "\n",
    "#### $\\S$ 3.6.2 随机变量的独立性\n",
    "* 用$\\eta_{r}$表示可列重Bernouli试验中第$r$次成功等待的时间，则在$\\eta_{1}$与$\\eta_{2}-\\eta_{1}$相互独立\n",
    "* 定理3.6.7给出了独立性的一个延展性质\n",
    "* 例3.6.3用到Poisson分布的随机选择不变性，以及给出一种计算联合分布密度的技巧\n",
    "\n",
    "#### $\\S$ 3.6.3 母函数\n",
    "母函数的引入为计算取非负整数值的随机变量的概率分布密度带来很多方便\n",
    "* 密度和母函数一一对应\n",
    "* 计算有限个独立非负整数值随机变量的母函数\n",
    "* 计算随机个独立非负整数值随机变量的母函数\n",
    "\n",
    "#### $\\S$ 3.6.4 练习题\n",
    "$I$.\n",
    "\n",
    "1.2.条件密度可以通过联合密度来计算：计算边缘密度，然后再相除\n",
    "\n",
    "3.4.已知x边缘密度和y关于x的条件密度，求联合密度或y的边缘密度\n",
    "\n",
    "$II$.\n",
    "\n",
    "5.用联合密度可分离证独立性\n",
    "\n",
    "6.用联合密度等于边缘密度乘积证独立性\n",
    "\n",
    "7.用联合分布可分离证独立性\n",
    "\n",
    "8.注意$\\mathbb{P}(\\zeta=ij |\\xi=i,\\eta=j)=1$\n",
    "\n",
    "9.注意常数c的分布函数为\n",
    "$\\mathbb{F}(B)=\\mathbb{P}(c \\in B) =\\left\\{\n",
    "\\begin{aligned}\n",
    "0 & &  c \\notin B \\\\\n",
    "1 & &  c \\in B\n",
    "\\end{aligned}\n",
    "\\right. $\n",
    "\n",
    "$III$.10.构造性证明$\\mathbb{H}$是分布\n",
    "\n",
    "$V$.母函数求非负整值随机变量密度\n",
    "11.12.13."
   ]
  },
  {
   "cell_type": "code",
   "execution_count": null,
   "metadata": {},
   "outputs": [],
   "source": []
  }
 ],
 "metadata": {
  "kernelspec": {
   "display_name": "Python 3",
   "language": "python",
   "name": "python3"
  },
  "language_info": {
   "codemirror_mode": {
    "name": "ipython",
    "version": 3
   },
   "file_extension": ".py",
   "mimetype": "text/x-python",
   "name": "python",
   "nbconvert_exporter": "python",
   "pygments_lexer": "ipython3",
   "version": "3.6.4"
  }
 },
 "nbformat": 4,
 "nbformat_minor": 2
}
