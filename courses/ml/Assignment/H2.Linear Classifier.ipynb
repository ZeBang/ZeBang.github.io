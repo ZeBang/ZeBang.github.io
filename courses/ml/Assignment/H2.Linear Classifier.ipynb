{
 "cells": [
  {
   "cell_type": "markdown",
   "metadata": {},
   "source": [
    "---\n",
    "# Linear Classifier\n",
    "\n",
    "In this assignment, you will build a linear image classifier from scratch in PyTorch. You will implement both the forward and the backward pass of the linear classifier _without_ using PyTorch's autograd capabilities. The notebook is largely adapted (with permission) from https://web.eecs.umich.edu/~justincj/teaching/eecs498/FA2019/assignment2.html.\n",
    "\n",
    "As in the first assignment, you will see code blocks that look like this:\n",
    "```python\n",
    "###############################################################################\n",
    "# TODO: Create a variable x with value 536.                                   #\n",
    "###############################################################################\n",
    "# Replace \"pass\" statement with your code\n",
    "pass\n",
    "# END OF YOUR CODE\n",
    "```\n",
    "\n",
    "You should replace the `pass` statement with your own code and leave the blocks intact, like this:\n",
    "```python\n",
    "###############################################################################\n",
    "# TODO: Create a variable x with value 536.                                   #\n",
    "###############################################################################\n",
    "# Replace \"pass\" statement with your code\n",
    "x = 536\n",
    "# END OF YOUR CODE\n",
    "```\n",
    "\n",
    "Also, please remember:\n",
    "- Do not write or modify any code outside of code blocks.\n",
    "- Do not delete any cells from the notebook. You may add new cells to perform scratch work, but delete them before submitting.\n",
    "- Run all cells before submitting. You will only get credit for code that has been run.\n",
    "- Submit your notebook as `netid.ipynb`, where `netid` is your actual netid.\n",
    "- Your submission will be graded with PyTorch 1.7.0 and Python 3.6, which are the default versions in Google Colab."
   ]
  },
  {
   "cell_type": "code",
   "execution_count": 1,
   "metadata": {
    "deletable": false,
    "editable": false,
    "nbgrader": {
     "cell_type": "code",
     "checksum": "f6bd01b405f99f88c9a5c8640316c5f8",
     "grade": false,
     "grade_id": "cell-b8d22cbe18e14151",
     "locked": true,
     "schema_version": 3,
     "solution": false,
     "task": false
    }
   },
   "outputs": [],
   "source": [
    "from __future__ import print_function\n",
    "from __future__ import division\n",
    "\n",
    "import math\n",
    "import time\n",
    "import random\n",
    "import torch\n",
    "import torch.nn.functional as F\n",
    "import matplotlib.pyplot as plt\n",
    "from torchvision.datasets import CIFAR10\n",
    "\n",
    "%matplotlib inline\n",
    "plt.rcParams['figure.figsize'] = (10.0, 8.0)\n",
    "plt.rcParams['image.interpolation'] = 'nearest'\n",
    "plt.rcParams['image.cmap'] = 'gray'"
   ]
  },
  {
   "cell_type": "markdown",
   "metadata": {
    "nbgrader": {
     "grade": false,
     "grade_id": "correct_squares",
     "locked": false,
     "schema_version": 3,
     "solution": false,
     "task": false
    }
   },
   "source": [
    "Starting in this assignment, we will use the GPU to accelerate our computation. Run this cell to make sure you are using a GPU."
   ]
  },
  {
   "cell_type": "code",
   "execution_count": 2,
   "metadata": {},
   "outputs": [],
   "source": [
    "assert torch.cuda.is_available(), 'GPU unavailable'"
   ]
  },
  {
   "cell_type": "markdown",
   "metadata": {},
   "source": [
    "## Data Preprocessing\n",
    "\n",
    "In this assignment, we will be using the CIFAR-10 dataset. It consists of 60K $32 \\times 32$ color images in 10 classes, namely: airplanes, automobiles, birds, cats, deer, dogs, frogs, horses, ships, and trucks. There are 6K images in each class, of which 1K are reserved for testing. Image samples and more details are available [here](https://www.cs.toronto.edu/~kriz/cifar.html).\n",
    "\n",
    "Given an image, our goal here is to predict the class it belongs to. For our linear classifier, we need to flatten the image into a vector. We will also use the **bias trick**: By adding an extra dimension of constant 1 to the input, we avoid the need to keep track of a separate bias vector. Specifically, let $W \\in \\mathbb{R}^{D \\times K}$ be a weight matrix, $b \\in \\mathbb{R}^{K}$ a bias vector, and $x \\in \\mathbb{R}^{D}$ the input, we have\n",
    "\n",
    "$$\n",
    "W^\\top x + b =\n",
    "\\begin{bmatrix}\n",
    "W^\\top & b\n",
    "\\end{bmatrix}\n",
    "\\begin{bmatrix}\n",
    "x\\\\\n",
    "1\n",
    "\\end{bmatrix}.\n",
    "$$\n",
    "\n",
    "This means we can treat $V^\\top := \\begin{bmatrix}\n",
    "W^\\top & b\n",
    "\\end{bmatrix}$ as a new weight matrix if we append a constant 1 to the input vector $x$. Therefore, we will represent each CIFAR-10 image as a $32 \\times 32 \\times 3 + 1 = 3073$ dimensional vector."
   ]
  },
  {
   "cell_type": "code",
   "execution_count": 2,
   "metadata": {
    "deletable": false,
    "editable": false,
    "nbgrader": {
     "cell_type": "code",
     "checksum": "38ccabc7b55ab7d1b4147f65fb333ef3",
     "grade": false,
     "grade_id": "cell-a0760c1df4207b3e",
     "locked": true,
     "schema_version": 3,
     "solution": false,
     "task": false
    }
   },
   "outputs": [
    {
     "name": "stdout",
     "output_type": "stream",
     "text": [
      "Files already downloaded and verified\n",
      "Files already downloaded and verified\n",
      "RGB_mean: tensor([0.4914, 0.4822, 0.4465])\n",
      "RGB_std: tensor([0.2470, 0.2435, 0.2616])\n",
      "Training data shape: torch.Size([40000, 3073])\n",
      "Training labels shape: torch.Size([40000])\n",
      "Validation data shape: torch.Size([10000, 3073])\n",
      "Validation labels shape: torch.Size([10000])\n",
      "Test data shape: torch.Size([10000, 3073])\n",
      "Test labels shape: torch.Size([10000])\n"
     ]
    }
   ],
   "source": [
    "def get_CIFAR10_data():\n",
    "  \"\"\"\n",
    "  Load the CIFAR-10 dataset and prepare it for the linear classifier.\n",
    "  \"\"\"\n",
    "  CIFAR10_train = CIFAR10(root='.', train=True, download=True)\n",
    "  CIFAR10_test = CIFAR10(root='.', train=False, download=True)\n",
    "  X_train = torch.Tensor(CIFAR10_train.data).permute(0, 3, 1, 2) / 255  # 50K x 3 x 32 x 32\n",
    "  X_test = torch.Tensor(CIFAR10_test.data).permute(0, 3, 1, 2) / 255  # 10K x 3 x 32 x 32\n",
    "  y_train = torch.LongTensor(CIFAR10_train.targets)  # 50K\n",
    "  y_test = torch.LongTensor(CIFAR10_test.targets)  # 10K\n",
    "\n",
    "  # Normalize the data so that the pixel values have zero mean and unit variance\n",
    "  RGB_std, RGB_mean = torch.std_mean(X_train, dim=(0, 2, 3), keepdim=True)\n",
    "  X_train = (X_train - RGB_mean) / RGB_std\n",
    "  X_test = (X_test - RGB_mean) / RGB_std\n",
    "  print('RGB_mean:', RGB_mean.squeeze())\n",
    "  print('RGB_std:', RGB_std.squeeze())\n",
    "\n",
    "  # Flatten each image into a vector\n",
    "  X_train = X_train.reshape(X_train.shape[0], -1)\n",
    "  X_test = X_test.reshape(X_test.shape[0], -1)\n",
    "\n",
    "  # Bias trick\n",
    "  ones_train = torch.ones_like(y_train).view(-1, 1)\n",
    "  ones_test = torch.ones_like(y_test).view(-1, 1)\n",
    "  X_train = torch.cat([X_train, ones_train], dim=1)\n",
    "  X_test = torch.cat([X_test, ones_test], dim=1)\n",
    "\n",
    "  # Carve out part of the training data to use for validation\n",
    "  num_train = 40000\n",
    "  torch.manual_seed(0)\n",
    "  indices = torch.randperm(X_train.shape[0])\n",
    "  X_val = X_train[indices[num_train:]]\n",
    "  y_val = y_train[indices[num_train:]]\n",
    "  X_train = X_train[indices[:num_train]]\n",
    "  y_train = y_train[indices[:num_train]]\n",
    "\n",
    "  # Return the dataset as a dictionary\n",
    "  data_dict = {}\n",
    "  data_dict['X_train'] = X_train.cuda()\n",
    "  data_dict['y_train'] = y_train.cuda()\n",
    "  data_dict['X_val'] = X_val.cuda()\n",
    "  data_dict['y_val'] = y_val.cuda()\n",
    "  data_dict['X_test'] = X_test.cuda()\n",
    "  data_dict['y_test'] = y_test.cuda()\n",
    "  return data_dict\n",
    "\n",
    "# Invoke the above function to get our data\n",
    "data_dict = get_CIFAR10_data()\n",
    "print('Training data shape:', data_dict['X_train'].shape)\n",
    "print('Training labels shape:', data_dict['y_train'].shape)\n",
    "print('Validation data shape:', data_dict['X_val'].shape)\n",
    "print('Validation labels shape:', data_dict['y_val'].shape)\n",
    "print('Test data shape:', data_dict['X_test'].shape)\n",
    "print('Test labels shape:', data_dict['y_test'].shape)"
   ]
  },
  {
   "cell_type": "markdown",
   "metadata": {},
   "source": [
    "## Linear Classifier with Softmax\n",
    "\n",
    "In this section, we will:\n",
    "\n",
    "- Implement the loss function for the Softmax classifier.\n",
    "- Implement the analytic gradient of the loss function.\n",
    "- Numerically check the gradient."
   ]
  },
  {
   "cell_type": "markdown",
   "metadata": {},
   "source": [
    "Let us first consider the case where we are given a single image, already flattened into a vector $x_{(i)} \\in \\mathbb{R}^{D}$ with $D = 3073$. The corresponding label is $y_{(i)} \\in \\{0, 1, \\dots, K-1\\}$ where $K = 10$ is the number of classes. Our linear classifier learns a weight matrix\n",
    "$$\n",
    "W = \\begin{bmatrix}\n",
    "\\vert &        & \\vert  \\\\\n",
    "w_0   & \\cdots & w_{K-1}\\\\\n",
    "\\vert &        & \\vert\n",
    "\\end{bmatrix} \\in \\mathbb{R}^{D \\times K}\n",
    "$$\n",
    "such that\n",
    "$$\n",
    "\\mathbb{P}(\\text{class} = k \\mid \\text{image} = x_{(i)}) = \\frac{\\exp{(x_{(i)}^\\top w_k)}}{\\sum_{j=0}^{K-1} \\exp{(x_{(i)}^\\top w_j)}}, \\quad \\text{for each} \\ \\  k = 0, 1, \\dots, K-1.\n",
    "$$\n",
    "Here, we treat the image and its class as random variables.\n",
    "\n",
    "The loss function $\\mathcal{L}_{(i)}$ for this single image $x_{(i)}$ is the negative log-likelihood:\n",
    "$$\n",
    "\\mathcal{L}_{(i)} := -\\log \\mathbb{P}(y_{(i)} \\mid x_{(i)}) := -\\log \\mathbb{P}(\\text{class} = y_{(i)} \\mid \\text{image} = x_{(i)}).\n",
    "$$\n",
    "\n",
    "The training objective is to minimize the negative log-likelihood averaged over all training images, plus some regularization term:\n",
    "$$\n",
    "\\text{minimize} \\quad \\mathcal{L}_{N} := \\frac{1}{N} \\sum_{i=0}^{N-1} \\mathcal{L}_{(i)} + \\frac{\\lambda}{2} \\sum_{k=0}^{K-1} \\Vert w_k \\Vert_2^2,\n",
    "$$\n",
    "where $N$ is the number of training images, and $\\lambda$ is a hyperparameter controlling regularization strength.\n",
    "\n",
    "To optimize this objective, we use Stochastic Gradient Descent (SGD). At each optimization step, we will do the following:\n",
    "- Sample a mini-batch of $B$ training images.\n",
    "- Compute the loss $\\mathcal{L}_{B}$ and the gradient $\\frac{\\text{d}\\mathcal{L}_{B}}{\\text{d}W}$ on this mini-batch. Here, $\\mathcal{L}_{B}$ can be viewed as an unbiased estimate of $\\mathcal{L}_{N}$.\n",
    "- Update the weights: $W \\leftarrow W - \\eta \\frac{\\text{d}\\mathcal{L}_{B}}{\\text{d}W}$, where $\\eta$ is the learning rate."
   ]
  },
  {
   "cell_type": "markdown",
   "metadata": {},
   "source": [
    "Now let us implement the loss function $\\mathcal{L}_{B}$ and its gradient $\\frac{\\text{d}\\mathcal{L}_{B}}{\\text{d}W}$. To take full advantage of GPU acceleration, we would like our implementation to be vectorized, that is, not containing any loops.\n",
    "\n",
    "We are given a mini-batch of $B$ training images\n",
    "$$\n",
    "X = \\begin{bmatrix}\n",
    "\\text{—} & x_{(0)}^\\top   & \\text{—}\\\\\n",
    "         & \\vdots         &         \\\\\n",
    "\\text{—} & x_{(B-1)}^\\top & \\text{—}\n",
    "\\end{bmatrix} \\in \\mathbb{R}^{B \\times D},\n",
    "$$\n",
    "and the corresponding labels\n",
    "$$\n",
    "y = \\begin{bmatrix}\n",
    "y_{(0)}\\\\\n",
    "\\vdots \\\\\n",
    "y_{(B-1)}\n",
    "\\end{bmatrix} \\in \\mathbb{R}^{B}.\n",
    "$$\n",
    "\n",
    "The vectorized implementation of the loss function $\\mathcal{L}_{B}$ is as follows:\n",
    "- Compute a matrix $O \\in \\mathbb{R}^{B \\times K}$ such that $O[i, k] = x_{(i)}^\\top w_k$.\n",
    "- Compute a matrix $P \\in \\mathbb{R}^{B \\times K}$ from $O$ such that $P[i, k] = \\mathbb{P}(\\text{class} = k \\mid \\text{image} = x_{(i)})$.\n",
    "- Obtain the vector $\\begin{bmatrix}\n",
    "\\mathcal{L}_{(0)}\\\\\n",
    "\\vdots\\\\\n",
    "\\mathcal{L}_{(B-1)}\n",
    "\\end{bmatrix}$ by computing the negative logarithm of proper elements of $P$.\n",
    "- Compute the mean of this vector, and add the regularization term.\n",
    "\n",
    "Please derive the gradient $\\frac{\\text{d}\\mathcal{L}_{B}}{\\text{d}W}$ and give a vectorized implementation of the gradient by yourself.\n",
    "\n",
    "Hint: You need to first compute $-\\frac{\\partial \\log \\! P[i, y_{(i)}]}{\\partial O[i, j]}$, since\n",
    "\n",
    "$$\n",
    "\\frac{\\partial \\mathcal{L}_{(i)}}{\\partial w_j}\n",
    "= -\\frac{\\partial \\log \\! P[i, y_{(i)}]}{\\partial O[i, j]} \\cdot \\frac{\\partial O[i, j]}{\\partial w_j} = -\\frac{\\partial \\log \\! P[i, y_{(i)}]}{\\partial O[i, j]} \\cdot x_{(i)}.\n",
    "$$\n",
    "\n",
    "The following might be useful:\n",
    "- Let $\\alpha, \\beta, \\gamma$ be real numbers and $x$ be a vector, then\n",
    "$$\n",
    "\\begin{bmatrix}\n",
    "\\vert    & \\vert   & \\vert   \\\\\n",
    "\\alpha x & \\beta x & \\gamma x\\\\\n",
    "\\vert    & \\vert   & \\vert\n",
    "\\end{bmatrix} = \\begin{bmatrix}\n",
    "\\vert\\\\\n",
    "x    \\\\\n",
    "\\vert\n",
    "\\end{bmatrix} \\begin{bmatrix}\n",
    "\\alpha & \\beta & \\gamma\n",
    "\\end{bmatrix}.\n",
    "$$\n",
    "- Let $x_1, x_2, x_3$ and $y_1, y_2, y_3$ be vectors, then\n",
    "$$\n",
    "\\begin{bmatrix}\n",
    "\\vert & \\vert & \\vert\\\\\n",
    "x_1   & x_2   & x_3  \\\\\n",
    "\\vert & \\vert & \\vert\n",
    "\\end{bmatrix} \\begin{bmatrix}\n",
    "\\text{—} & y_1^\\top & \\text{—}\\\\\n",
    "\\text{—} & y_2^\\top & \\text{—}\\\\\n",
    "\\text{—} & y_3^\\top & \\text{—}\n",
    "\\end{bmatrix} = x_1 y_1^\\top + x_2 y_2^\\top + x_3 y_3^\\top.\n",
    "$$\n",
    "- By definition,\n",
    "$$\n",
    "\\frac{\\text{d}\\mathcal{L}_{(i)}}{\\text{d}W} = \\begin{bmatrix}\n",
    "\\vert &        & \\vert  \\\\\n",
    "\\frac{\\partial \\mathcal{L}_{(i)}}{\\partial w_0}   & \\cdots & \\frac{\\partial \\mathcal{L}_{(i)}}{\\partial w_{K-1}}\\\\\n",
    "\\vert &        & \\vert\n",
    "\\end{bmatrix}.\n",
    "$$"
   ]
  },
  {
   "cell_type": "code",
   "execution_count": 182,
   "metadata": {
    "deletable": false,
    "nbgrader": {
     "cell_type": "code",
     "checksum": "10e578401ae9e0f352fe6507df9cb55a",
     "grade": false,
     "grade_id": "cell-b27502f4b61fdb05",
     "locked": false,
     "schema_version": 3,
     "solution": true,
     "task": false
    }
   },
   "outputs": [],
   "source": [
    "def softmax_loss_vectorized(W, X, y, reg):\n",
    "  \"\"\"\n",
    "  Softmax loss function, vectorized version.\n",
    "\n",
    "  Inputs:\n",
    "  - W: A PyTorch tensor of shape (D, K) containing weights.\n",
    "  - X: A PyTorch tensor of shape (B, D) containing a mini-batch of images.\n",
    "  - y: A PyTorch tensor of shape (B,) containing the corresponding labels;\n",
    "    y[i] = k means that X[i] has label k, where 0 <= k < K.\n",
    "  - reg: (float) regularization strength (equals lambda).\n",
    "\n",
    "  Returns:\n",
    "  - loss: A PyTorch scalar containing the loss for the mini-batch.\n",
    "  - dW: A PyTorch tensor of the same shape as W containing the gradient.\n",
    "  \"\"\"\n",
    "  #############################################################################\n",
    "  # TODO: Compute the softmax loss and its gradient without explicit loops.   #\n",
    "  # Store the loss in `loss` and the gradient in `dW`. You are NOT allowed to #\n",
    "  # use PyTorch's built-in loss functions. Don't forget the regularization!   #\n",
    "  #############################################################################\n",
    "  # Replace \"pass\" statement with your code\n",
    "  B = X.shape[0]\n",
    "  xm = X.mm(W)\n",
    "  # make largest value here zero, just for numeric stability\n",
    "  maximum_xm = torch.max(xm, 1)[0].reshape(-1,1)\n",
    "  xm -= maximum_xm\n",
    "  soft_m = torch.exp(xm)\n",
    "  p = (soft_m/ torch.sum(soft_m, 1).reshape(-1, 1))\n",
    "  one_hot = torch.zeros_like(p)\n",
    "  one_hot[torch.arange(B), y] = 1\n",
    "  loss = torch.mean(torch.sum(-torch.log(p) * one_hot, 1)) + (reg/2)*torch.sum(W**2)\n",
    "  dW = torch.transpose(X, 0, 1).mm(p - one_hot)/B + reg*W\n",
    "  # END OF YOUR CODE\n",
    "  return loss, dW"
   ]
  },
  {
   "cell_type": "markdown",
   "metadata": {},
   "source": [
    "As a sanity check to see whether the loss function has been implemented correctly, run it with a small random weight matrix and no regularization. The classifer should output approximately equal probabilities for each class. Hence, the loss should be near $-\\log(1/10) = 2.3$."
   ]
  },
  {
   "cell_type": "code",
   "execution_count": 183,
   "metadata": {
    "deletable": false,
    "editable": false,
    "nbgrader": {
     "cell_type": "code",
     "checksum": "fdfc3d06c7aba84c11481d42556ce404",
     "grade": true,
     "grade_id": "cell-b5e586fbff84b184",
     "locked": true,
     "points": 10,
     "schema_version": 3,
     "solution": false,
     "task": false
    }
   },
   "outputs": [
    {
     "name": "stdout",
     "output_type": "stream",
     "text": [
      "loss: 2.302799\n",
      "log(10): 2.302585\n"
     ]
    }
   ],
   "source": [
    "torch.manual_seed(0)\n",
    "W = torch.empty(3073, 10, device='cuda').normal_() * 1e-4\n",
    "\n",
    "X_batch = data_dict['X_train'][:128]\n",
    "y_batch = data_dict['y_train'][:128]\n",
    "\n",
    "loss, grad = softmax_loss_vectorized(W, X_batch, y_batch, reg=0.0)\n",
    "loss = loss.item()\n",
    "\n",
    "print('loss: %f' % loss)\n",
    "print('log(10): %f' % math.log(10.0))\n",
    "\n",
    "assert abs(loss - math.log(10.0)) < 0.01, 'sanity check failed'"
   ]
  },
  {
   "cell_type": "markdown",
   "metadata": {},
   "source": [
    "Next, we use gradient checking to validate our implementation of the analytic gradient. If you've implemented the gradient correctly, you should see relative errors less than `1e-5`. We will use the following function to perform gradient checking."
   ]
  },
  {
   "cell_type": "code",
   "execution_count": 184,
   "metadata": {
    "deletable": false,
    "editable": false,
    "nbgrader": {
     "cell_type": "code",
     "checksum": "22ab8beca93a3f7bc4b8b1b6eb30d616",
     "grade": false,
     "grade_id": "cell-eb58d5e66b62ddf9",
     "locked": true,
     "schema_version": 3,
     "solution": false,
     "task": false
    }
   },
   "outputs": [],
   "source": [
    "def grad_check_sparse(f, x, analytic_grad, num_checks=10, h=1e-7):\n",
    "  \"\"\"\n",
    "  Utility function to perform numeric gradient checking. We use the centered\n",
    "  difference formula to compute a numeric derivative:\n",
    "\n",
    "  f'(x) ~= (f(x + h) - f(x - h)) / (2h).\n",
    "\n",
    "  Rather than computing a full numeric gradient, we sparsely sample a few\n",
    "  dimensions along which to compute numeric derivatives.\n",
    "\n",
    "  Inputs:\n",
    "  - f: A function that inputs a PyTorch tensor and returns a PyTorch scalar.\n",
    "  - x: A PyTorch tensor giving the point at which to evaluate the numeric gradient.\n",
    "  - analytic_grad: A PyTorch tensor giving the analytic gradient of f at x.\n",
    "  - num_checks: The number of dimensions along which to check.\n",
    "  - h: Step size for computing numeric derivatives.\n",
    "  \"\"\"\n",
    "  random.seed(0)\n",
    "\n",
    "  for i in range(num_checks):\n",
    "\n",
    "    ix = tuple([random.randrange(m) for m in x.shape])\n",
    "\n",
    "    oldval = x[ix].item()\n",
    "    x[ix] = oldval + h # increment by h\n",
    "    fxph = f(x).item() # evaluate f(x + h)\n",
    "    x[ix] = oldval - h # increment by h\n",
    "    fxmh = f(x).item() # evaluate f(x - h)\n",
    "    x[ix] = oldval     # reset\n",
    "\n",
    "    grad_numeric = (fxph - fxmh) / (2 * h)\n",
    "    grad_analytic = analytic_grad[ix].item()\n",
    "    rel_error_top = abs(grad_numeric - grad_analytic)\n",
    "    rel_error_bot = abs(grad_numeric) + abs(grad_analytic) + 1e-12\n",
    "    rel_error = rel_error_top / rel_error_bot\n",
    "    \n",
    "    msg = 'numeric: %f \\t analytic: %f \\t relative error: %e'\n",
    "    print(msg % (grad_numeric, grad_analytic, rel_error))\n",
    "    assert rel_error < 1e-5, 'gradient checking failed'"
   ]
  },
  {
   "cell_type": "code",
   "execution_count": 185,
   "metadata": {
    "deletable": false,
    "editable": false,
    "nbgrader": {
     "cell_type": "code",
     "checksum": "3d8767b9184d402dbbb877f897e995f5",
     "grade": true,
     "grade_id": "cell-1fe9146ce30b4eac",
     "locked": true,
     "points": 10,
     "schema_version": 3,
     "solution": false,
     "task": false
    }
   },
   "outputs": [
    {
     "name": "stdout",
     "output_type": "stream",
     "text": [
      "numeric: 0.002246 \t analytic: 0.002246 \t relative error: 3.404026e-07\n",
      "numeric: 0.049154 \t analytic: 0.049154 \t relative error: 1.663957e-08\n",
      "numeric: 0.059174 \t analytic: 0.059174 \t relative error: 9.175266e-09\n",
      "numeric: -0.016110 \t analytic: -0.016110 \t relative error: 5.265960e-08\n",
      "numeric: 0.020446 \t analytic: 0.020446 \t relative error: 4.777650e-09\n",
      "numeric: 0.048940 \t analytic: 0.048940 \t relative error: 3.072825e-09\n",
      "numeric: -0.053441 \t analytic: -0.053441 \t relative error: 4.370996e-09\n",
      "numeric: -0.049557 \t analytic: -0.049557 \t relative error: 2.235197e-08\n",
      "numeric: -0.046222 \t analytic: -0.046222 \t relative error: 1.717001e-08\n",
      "numeric: -0.044180 \t analytic: -0.044180 \t relative error: 6.629778e-09\n"
     ]
    }
   ],
   "source": [
    "torch.manual_seed(0)\n",
    "W = torch.empty(3073, 10, device='cuda', dtype=torch.double).normal_() * 1e-2\n",
    "\n",
    "X_batch = data_dict['X_train'][:128].double()\n",
    "y_batch = data_dict['y_train'][:128]\n",
    "\n",
    "loss, grad = softmax_loss_vectorized(W, X_batch, y_batch, reg=0.0)\n",
    "\n",
    "f = lambda w: softmax_loss_vectorized(w, X_batch, y_batch, reg=0.0)[0]\n",
    "grad_check_sparse(f, W, grad)"
   ]
  },
  {
   "cell_type": "markdown",
   "metadata": {},
   "source": [
    "Let's perform another gradient checking with regularization enabled. Again you should see relative errors less than `1e-5`."
   ]
  },
  {
   "cell_type": "code",
   "execution_count": 186,
   "metadata": {
    "deletable": false,
    "editable": false,
    "nbgrader": {
     "cell_type": "code",
     "checksum": "1b2c4dea1841c61475cf6a2ef7073e69",
     "grade": true,
     "grade_id": "cell-b1190851ac6719f9",
     "locked": true,
     "points": 10,
     "schema_version": 3,
     "solution": false,
     "task": false
    }
   },
   "outputs": [
    {
     "name": "stdout",
     "output_type": "stream",
     "text": [
      "numeric: 0.468494 \t analytic: 0.468494 \t relative error: 1.371757e-08\n",
      "numeric: 0.336506 \t analytic: 0.336506 \t relative error: 1.626280e-07\n",
      "numeric: 0.746915 \t analytic: 0.746915 \t relative error: 1.575050e-08\n",
      "numeric: 0.089846 \t analytic: 0.089847 \t relative error: 4.640806e-07\n",
      "numeric: -0.382149 \t analytic: -0.382149 \t relative error: 1.634519e-08\n",
      "numeric: -0.595274 \t analytic: -0.595274 \t relative error: 1.069055e-07\n",
      "numeric: -2.658249 \t analytic: -2.658249 \t relative error: 1.113944e-08\n",
      "numeric: -1.051736 \t analytic: -1.051736 \t relative error: 1.549830e-08\n",
      "numeric: 4.157657 \t analytic: 4.157657 \t relative error: 1.642005e-08\n",
      "numeric: -0.528075 \t analytic: -0.528075 \t relative error: 3.787722e-08\n"
     ]
    }
   ],
   "source": [
    "torch.manual_seed(0)\n",
    "W = torch.empty(3073, 10, device='cuda', dtype=torch.double).normal_() * 1e-2\n",
    "\n",
    "X_batch = data_dict['X_train'][:128].double()\n",
    "y_batch = data_dict['y_train'][:128]\n",
    "\n",
    "loss, grad = softmax_loss_vectorized(W, X_batch, y_batch, reg=100.0)\n",
    "\n",
    "f = lambda w: softmax_loss_vectorized(w, X_batch, y_batch, reg=100.0)[0]\n",
    "grad_check_sparse(f, W, grad)"
   ]
  },
  {
   "cell_type": "markdown",
   "metadata": {},
   "source": [
    "Now let's run and time your vectorized implementation. On a mini-batch of size 128, it should take less than 10ms."
   ]
  },
  {
   "cell_type": "code",
   "execution_count": 110,
   "metadata": {
    "deletable": false,
    "editable": false,
    "nbgrader": {
     "cell_type": "code",
     "checksum": "c2c0259344dc2911889fc0161afba82a",
     "grade": true,
     "grade_id": "cell-a4dac1096d836895",
     "locked": true,
     "points": 10,
     "schema_version": 3,
     "solution": false,
     "task": false
    }
   },
   "outputs": [
    {
     "name": "stdout",
     "output_type": "stream",
     "text": [
      "computation time: 0.998020ms\n"
     ]
    }
   ],
   "source": [
    "torch.manual_seed(0)\n",
    "W = torch.empty(3073, 10, device='cuda').normal_() * 1e-2\n",
    "\n",
    "X_batch = data_dict['X_train'][:128]\n",
    "y_batch = data_dict['y_train'][:128]\n",
    "\n",
    "torch.cuda.synchronize()\n",
    "tic = time.time()\n",
    "\n",
    "loss, grad = softmax_loss_vectorized(W, X_batch, y_batch, reg=1.0)\n",
    "\n",
    "torch.cuda.synchronize()\n",
    "toc = time.time()\n",
    "\n",
    "computation_time_ms = 1000 * (toc - tic)\n",
    "print('computation time: %fms' % computation_time_ms)\n",
    "assert computation_time_ms < 10, 'time limit exceeded'"
   ]
  },
  {
   "cell_type": "markdown",
   "metadata": {},
   "source": [
    "## Training\n",
    "\n",
    "Now that we have an efficient vectorized implementation of the loss function and its gradient, we can implement a training pipeline that optimizes the weight matrix $W$ by Stochastic Gradient Descent (SGD)."
   ]
  },
  {
   "cell_type": "code",
   "execution_count": 187,
   "metadata": {
    "deletable": false,
    "nbgrader": {
     "cell_type": "code",
     "checksum": "825a1723b5048255f782bffa1284034e",
     "grade": false,
     "grade_id": "cell-a3fdc0949ade371e",
     "locked": false,
     "schema_version": 3,
     "solution": true,
     "task": false
    }
   },
   "outputs": [],
   "source": [
    "def train_linear_classifier(loss_func, W, X, y, learning_rate=1e-3, \n",
    "                            reg=1e-5, num_iters=100, batch_size=200, verbose=False):\n",
    "  \"\"\"\n",
    "  Train linear classifier using stochastic gradient descent.\n",
    "\n",
    "  Inputs:\n",
    "  - loss_func: loss function to use when training. It should take W, X, y,\n",
    "    and reg as input, and output a tuple of (loss, dW).\n",
    "  - W: A PyTorch tensor of shape (D, K) giving the initial weights of the\n",
    "    classifier. If W is None then it will be initialized here.\n",
    "  - X: A PyTorch tensor of shape (N, D) containing all the training images.\n",
    "  - y: A PyTorch tensor of shape (N,) containing all the training labels;\n",
    "    y[i] = k means that X[i] has label k, where 0 <= k < K.\n",
    "  - learning_rate: (float) learning rate for optimization.\n",
    "  - reg: (float) regularization strength (equals lambda).\n",
    "  - num_iters: (integer) number of optimization steps.\n",
    "  - batch_size: (integer) number of training samples to use at each step.\n",
    "  - verbose: (boolean) If true, print progress during optimization.\n",
    "\n",
    "  Returns:\n",
    "  - W: The final value of the weight matrix at the end of optimization.\n",
    "  - loss_history: A list of Python scalars giving the values of the loss at each\n",
    "    training iteration.\n",
    "  \"\"\"\n",
    "  N, D = X.shape\n",
    "  if W is None:\n",
    "    K = torch.max(y).item() + 1\n",
    "    W = X.new_empty(D, K).normal_() * 1e-2\n",
    "  else:\n",
    "    K = W.shape[1]\n",
    "\n",
    "  # Run stochastic gradient descent to optimize W\n",
    "  loss_history = []\n",
    "  for it in range(num_iters):\n",
    "    X_batch = None\n",
    "    y_batch = None\n",
    "    #########################################################################\n",
    "    # TODO:                                                                 #\n",
    "    # Sample `batch_size` images and their corresponding labels.            #\n",
    "    # Store them in `X_batch` and `y_batch`, respectively.                  #\n",
    "    # `X_batch` should have shape (batch_size, D).                          #\n",
    "    # `y_batch` should have shape (batch_size,).                            #\n",
    "    #                                                                       #\n",
    "    # Hint: Use torch.randint() to generate indices.                        #\n",
    "    #########################################################################\n",
    "    # Replace \"pass\" statement with your code\n",
    "    indices = torch.randint(low = 0, high = X.shape[0]-1, size=(batch_size,))\n",
    "    X_batch = X[indices]\n",
    "    y_batch = y[indices]\n",
    "    # END OF YOUR CODE\n",
    "\n",
    "    # Compute loss and gradient\n",
    "    loss, grad = loss_func(W, X_batch, y_batch, reg)\n",
    "    loss_history.append(loss.item())\n",
    "\n",
    "    # Perform parameter update\n",
    "    #########################################################################\n",
    "    # TODO:                                                                 #\n",
    "    # Update the weights using the gradient and the learning rate.          #\n",
    "    #########################################################################\n",
    "    # Replace \"pass\" statement with your code\n",
    "    W -= learning_rate * grad\n",
    "    # END OF YOUR CODE\n",
    "\n",
    "    if verbose and it % 100 == 0:\n",
    "      print('iteration %d / %d: loss %f' % (it, num_iters, loss))\n",
    "\n",
    "  return W, loss_history"
   ]
  },
  {
   "cell_type": "markdown",
   "metadata": {},
   "source": [
    "First, let us perform a single optimization step to check if there is any bug in the training pipeline."
   ]
  },
  {
   "cell_type": "code",
   "execution_count": 188,
   "metadata": {
    "deletable": false,
    "editable": false,
    "nbgrader": {
     "cell_type": "code",
     "checksum": "b060e37aec7c6297ae1b8c78f1185f42",
     "grade": true,
     "grade_id": "cell-64c72c82afb95729",
     "locked": true,
     "points": 10,
     "schema_version": 3,
     "solution": false,
     "task": false
    }
   },
   "outputs": [
    {
     "name": "stdout",
     "output_type": "stream",
     "text": [
      "iteration 0 / 1: loss 153650000.000000\n"
     ]
    }
   ],
   "source": [
    "W_init = torch.ones(3073, 10, device='cuda')\n",
    "W, loss_hist = train_linear_classifier(softmax_loss_vectorized, W_init,\n",
    "                                       data_dict['X_train'],\n",
    "                                       data_dict['y_train'],\n",
    "                                       learning_rate=1e-6, reg=1e4,\n",
    "                                       num_iters=1, verbose=True)\n",
    "\n",
    "assert not math.isnan(loss_hist[0])"
   ]
  },
  {
   "cell_type": "markdown",
   "metadata": {},
   "source": [
    "Now let's train the classifier with some default hyperparameters:"
   ]
  },
  {
   "cell_type": "code",
   "execution_count": 189,
   "metadata": {},
   "outputs": [
    {
     "name": "stdout",
     "output_type": "stream",
     "text": [
      "iteration 0 / 200: loss 15291.534180\n",
      "iteration 100 / 200: loss 2050.719727\n"
     ]
    }
   ],
   "source": [
    "torch.manual_seed(0)\n",
    "\n",
    "W, loss_hist = train_linear_classifier(softmax_loss_vectorized, None,\n",
    "                                       data_dict['X_train'],\n",
    "                                       data_dict['y_train'],\n",
    "                                       learning_rate=1e-6, reg=1e4,\n",
    "                                       num_iters=200, verbose=True)"
   ]
  },
  {
   "cell_type": "markdown",
   "metadata": {},
   "source": [
    "Plot the loss curve:"
   ]
  },
  {
   "cell_type": "code",
   "execution_count": 190,
   "metadata": {},
   "outputs": [
    {
     "data": {
      "image/png": "[encoded data removed]",
      "text/plain": [
       "<Figure size 432x288 with 1 Axes>"
      ]
     },
     "metadata": {
      "needs_background": "light"
     },
     "output_type": "display_data"
    }
   ],
   "source": [
    "plt.plot(loss_hist, 'o')\n",
    "plt.xlabel('Iteration number')\n",
    "plt.ylabel('Loss value')\n",
    "plt.show()"
   ]
  },
  {
   "cell_type": "markdown",
   "metadata": {},
   "source": [
    "## Prediction\n",
    "\n",
    "Let's move on to the prediction stage."
   ]
  },
  {
   "cell_type": "code",
   "execution_count": 191,
   "metadata": {
    "deletable": false,
    "nbgrader": {
     "cell_type": "code",
     "checksum": "a092a83afdcc612819cca7bf02583361",
     "grade": false,
     "grade_id": "cell-5c93da7d3d984c48",
     "locked": false,
     "schema_version": 3,
     "solution": true,
     "task": false
    }
   },
   "outputs": [],
   "source": [
    "def predict_linear_classifier(W, X):\n",
    "  \"\"\"\n",
    "  Use the trained weights to predict labels for images.\n",
    "\n",
    "  Inputs:\n",
    "  - W: A PyTorch tensor of shape (D, K) containing the weights of a classifier.\n",
    "  - X: A PyTorch tensor of shape (N, D) containing images for prediction.\n",
    "\n",
    "  Returns:\n",
    "  - y_pred: A PyTorch tensor of shape (N,) giving predicted labels.\n",
    "    Each element of y_pred should be a 64-bit integer between 0 and K-1.\n",
    "  \"\"\"\n",
    "  ###########################################################################\n",
    "  # TODO:                                                                   #\n",
    "  # Implement this method. Store the predicted labels in `y_pred`.          #\n",
    "  ###########################################################################\n",
    "  # Replace \"pass\" statement with your code\n",
    "  class_preds = X.mm(W)\n",
    "  y_pred = torch.argmax(class_preds, dim=1)\n",
    "  # END OF YOUR CODE\n",
    "  return y_pred"
   ]
  },
  {
   "cell_type": "markdown",
   "metadata": {},
   "source": [
    "We can now evaluate the performance of our trained model on both the training set and the validation set. You should see prediction accuracy less than 20%."
   ]
  },
  {
   "cell_type": "code",
   "execution_count": 192,
   "metadata": {
    "deletable": false,
    "editable": false,
    "nbgrader": {
     "cell_type": "code",
     "checksum": "502000f160ad1ccc8a6042aaa6491b97",
     "grade": true,
     "grade_id": "cell-3af9a3c2735082ed",
     "locked": true,
     "points": 10,
     "schema_version": 3,
     "solution": false,
     "task": false
    }
   },
   "outputs": [
    {
     "name": "stdout",
     "output_type": "stream",
     "text": [
      "training accuracy: 9.69%\n",
      "validation accuracy: 10.07%\n"
     ]
    }
   ],
   "source": [
    "y_train_pred = predict_linear_classifier(W, data_dict['X_train'])\n",
    "train_acc = 100.0 * (data_dict['y_train'] == y_train_pred).float().mean().item()\n",
    "print('training accuracy: %.2f%%' % train_acc)\n",
    "\n",
    "y_val_pred = predict_linear_classifier(W, data_dict['X_val'])\n",
    "val_acc = 100.0 * (data_dict['y_val'] == y_val_pred).float().mean().item()\n",
    "print('validation accuracy: %.2f%%' % val_acc)\n",
    "\n",
    "assert train_acc < 20\n",
    "assert val_acc < 20"
   ]
  },
  {
   "cell_type": "markdown",
   "metadata": {},
   "source": [
    "## Cross Validation\n",
    "\n",
    "Unfortunately, the performance of our initial model is quite bad. We need to find better hyperparamters. Before doing that, let us first put together the functions we've implemented."
   ]
  },
  {
   "cell_type": "code",
   "execution_count": 193,
   "metadata": {
    "deletable": false,
    "editable": false,
    "nbgrader": {
     "cell_type": "code",
     "checksum": "2b46bce0169b3d855972a1a519ccd63f",
     "grade": false,
     "grade_id": "cell-b59610d5b1d58b7a",
     "locked": true,
     "schema_version": 3,
     "solution": false,
     "task": false
    }
   },
   "outputs": [],
   "source": [
    "class LinearClassifier:\n",
    "\n",
    "  def __init__(self):\n",
    "    self.W = None\n",
    "\n",
    "  def train(self, X_train, y_train, learning_rate=1e-3, reg=1e-5, num_iters=100,\n",
    "            batch_size=200, verbose=False):\n",
    "    train_args = (self.loss, self.W, X_train, y_train, learning_rate, reg,\n",
    "                  num_iters, batch_size, verbose)\n",
    "    self.W, loss_history = train_linear_classifier(*train_args)\n",
    "    return loss_history\n",
    "\n",
    "  def predict(self, X):\n",
    "    return predict_linear_classifier(self.W, X)\n",
    "\n",
    "  def loss(self, W, X_batch, y_batch, reg):\n",
    "    return softmax_loss_vectorized(W, X_batch, y_batch, reg)"
   ]
  },
  {
   "cell_type": "markdown",
   "metadata": {},
   "source": [
    "Now, please use cross-validation to tune the hyperparameters (learning rate and regularization strength). You should experiment with different combinations of learning rates and regularization strengths. You may take a coarse-to-fine strategy, starting with a few initial combinations that coarsely cover a large range, then gradually narrowing down the range.\n",
    "\n",
    "To get full credit, your best model found through cross-validation should achieve an accuracy of at least 39% on the validation set."
   ]
  },
  {
   "cell_type": "code",
   "execution_count": 215,
   "metadata": {
    "deletable": false,
    "nbgrader": {
     "cell_type": "code",
     "checksum": "6d2f8ebfa6ea972bd4037ff12f66b4d0",
     "grade": false,
     "grade_id": "cell-e27d124b1f9f72f4",
     "locked": false,
     "schema_version": 3,
     "solution": true,
     "task": false
    }
   },
   "outputs": [],
   "source": [
    "# Store your cross-validation results in this dictionary.\n",
    "# The keys should be tuples of (learning_rate, regularization_strength) and\n",
    "# the values should be tuples of (train_accuracy, val_accuracy).\n",
    "results = {}\n",
    "\n",
    "# Also, save your best trained classifer as a LinearClassifier object.\n",
    "best_model = None\n",
    "\n",
    "################################################################################\n",
    "# TODO:                                                                        #\n",
    "# Use cross-validation to tune the learning rate and regularization strength.  #\n",
    "#                                                                              #\n",
    "# You need to provide some candidate combinations of learning rate and         #\n",
    "# regularization strength in your code. Then for each candidate combination,   #\n",
    "# you need to train a classifier on the training set, compute its accuracy on  #\n",
    "# both the training and validation sets, and store these numbers in the        #\n",
    "# `results` dictionary. In addition, save your best trained classifer (the one #\n",
    "# that achieves the best validation accuracy) in `best_model` (it should be a  #\n",
    "# LinearClassifier object).                                                    #\n",
    "#                                                                              #\n",
    "# Hint: You should use a small value for `num_iters` as you develop your       #\n",
    "# validation code so that the classifiers don't take much time to train;       #\n",
    "# once you are confident that your validation code works, you should rerun the #\n",
    "# validation code with a larger value for `num_iters` to ensure convergence.   #\n",
    "# You may plot loss curves and print relevant information to monitor the       #\n",
    "# training process.                                                            #\n",
    "################################################################################\n",
    "# Replace \"pass\" statement with your code\n",
    "best_val = -1\n",
    "learning_rates = [1e-1, 1e-2, 1e-3, 1e-4] # learning rate candidates, e.g. [1e-3, 1e-2, ...]\n",
    "regularization_strengths = [1e-1, 1e-2, 1e-3] # regularization strengths candidates e.g. [1e0, 1e1, ...]\n",
    "grid_search = [ (lr,rg) for lr in learning_rates for rg in regularization_strengths ]\n",
    "X_train=data_dict['X_train']\n",
    "y_train=data_dict['y_train']\n",
    "X_val=data_dict['X_val']\n",
    "y_val=data_dict['y_val']\n",
    "for lr, rg in grid_search:\n",
    "    # Create a new SVM instance\n",
    "    model = LinearClassifier()\n",
    "    # Train the model with current parameters\n",
    "    train_loss = model.train(X_train, y_train, learning_rate=lr, reg=rg,\n",
    "                      num_iters=1000,batch_size=200, verbose=False)\n",
    "    # Predict values for training set\n",
    "    y_train_pred = model.predict(X_train)\n",
    "    # Calculate accuracy\n",
    "    train_accuracy = torch.mean((y_train_pred == y_train).float())\n",
    "    # Predict values for validation set\n",
    "    y_val_pred = model.predict(X_val)\n",
    "    # Calculate accuracy\n",
    "    val_accuracy = torch.mean((y_val_pred == y_val).float())\n",
    "    # Save results\n",
    "    results[(lr,rg)] = (train_accuracy, val_accuracy)\n",
    "    if best_val < val_accuracy:\n",
    "        best_val = val_accuracy\n",
    "        best_model = model\n",
    "# END OF YOUR CODE"
   ]
  },
  {
   "cell_type": "markdown",
   "metadata": {},
   "source": [
    "Run the following to visualize your cross-validation results:"
   ]
  },
  {
   "cell_type": "code",
   "execution_count": 216,
   "metadata": {
    "deletable": false,
    "editable": false,
    "nbgrader": {
     "cell_type": "code",
     "checksum": "cddb5a8a0b0ddb074d1939c2bd7d6a24",
     "grade": true,
     "grade_id": "cell-7aaa3354258c3469",
     "locked": true,
     "points": 20,
     "schema_version": 3,
     "solution": false,
     "task": false
    }
   },
   "outputs": [
    {
     "data": {
      "image/png": "[encoded data removed]",
      "text/plain": [
       "<Figure size 576x360 with 2 Axes>"
      ]
     },
     "metadata": {
      "needs_background": "light"
     },
     "output_type": "display_data"
    },
    {
     "data": {
      "image/png": "[encoded data removed]",
      "text/plain": [
       "<Figure size 576x360 with 2 Axes>"
      ]
     },
     "metadata": {
      "needs_background": "light"
     },
     "output_type": "display_data"
    },
    {
     "name": "stdout",
     "output_type": "stream",
     "text": [
      "best validation accuracy: 39.95%\n"
     ]
    }
   ],
   "source": [
    "x_scatter = [math.log10(param[0]) for param in results]\n",
    "y_scatter = [math.log10(param[1] + 1e-10) for param in results]\n",
    "\n",
    "# Plot training accuracy\n",
    "marker_size = 100\n",
    "colors = [results[param][0] for param in results]\n",
    "plt.scatter(x_scatter, y_scatter, marker_size, c=colors, cmap='tab10')\n",
    "plt.colorbar()\n",
    "plt.xlabel('log learning rate')\n",
    "plt.ylabel('log regularization strength')\n",
    "plt.title('CIFAR-10 training accuracy')\n",
    "plt.gcf().set_size_inches(8, 5)\n",
    "plt.show()\n",
    "\n",
    "# Plot validation accuracy\n",
    "marker_size = 100\n",
    "colors = [results[param][1] for param in results]\n",
    "plt.scatter(x_scatter, y_scatter, marker_size, c=colors, cmap='tab10')\n",
    "plt.colorbar()\n",
    "plt.xlabel('log learning rate')\n",
    "plt.ylabel('log regularization strength')\n",
    "plt.title('CIFAR-10 validation accuracy')\n",
    "plt.gcf().set_size_inches(8, 5)\n",
    "plt.show()\n",
    "\n",
    "# Print best validation accuracy\n",
    "y_val_pred = best_model.predict(data_dict['X_val'])\n",
    "val_acc = 100.0 * (data_dict['y_val'] == y_val_pred).float().mean().item()\n",
    "print('best validation accuracy: %.2f%%' % val_acc)\n",
    "assert val_acc >= 39"
   ]
  },
  {
   "cell_type": "markdown",
   "metadata": {},
   "source": [
    "## Testing\n",
    "\n",
    "Report the performance of your best model on the test set. This should be run only once."
   ]
  },
  {
   "cell_type": "code",
   "execution_count": 217,
   "metadata": {},
   "outputs": [
    {
     "name": "stdout",
     "output_type": "stream",
     "text": [
      "test accuracy: 39.95%\n"
     ]
    }
   ],
   "source": [
    "y_test_pred = best_model.predict(data_dict['X_test'])\n",
    "test_acc = 100.0 * (data_dict['y_test'] == y_test_pred).float().mean().item()\n",
    "print('test accuracy: %.2f%%' % test_acc)"
   ]
  },
  {
   "cell_type": "markdown",
   "metadata": {},
   "source": [
    "## Visualization\n",
    "\n",
    "Finally, let's visualize the learned weights for each class."
   ]
  },
  {
   "cell_type": "code",
   "execution_count": 218,
   "metadata": {},
   "outputs": [
    {
     "data": {
      "image/png": "[encoded data removed]",
      "text/plain": [
       "<Figure size 432x288 with 10 Axes>"
      ]
     },
     "metadata": {
      "needs_background": "light"
     },
     "output_type": "display_data"
    }
   ],
   "source": [
    "w = best_model.W[:-1]  # strip out the bias\n",
    "w = w.reshape(3, 32, 32, 10)\n",
    "w = w.permute(1, 2, 0, 3)\n",
    "\n",
    "# Rescale the weights to be between 0 and 1\n",
    "w_min = torch.amin(w, dim=(0,1,2), keepdim=True)\n",
    "w_max = torch.amax(w, dim=(0,1,2), keepdim=True)\n",
    "w_img = (w - w_min) / (w_max - w_min)\n",
    "w_img = w_img.cpu()\n",
    "\n",
    "classes = ['airplane', 'automobile', 'bird', 'cat', 'deer', 'dog', 'frog', 'horse', 'ship', 'truck']\n",
    "for i in range(10):\n",
    "  plt.subplot(2, 5, i+1)\n",
    "  plt.imshow(w_img[..., i])\n",
    "  plt.axis('off')\n",
    "  plt.title(classes[i])"
   ]
  }
 ],
 "metadata": {
  "kernelspec": {
   "display_name": "Python 3",
   "language": "python",
   "name": "python3"
  },
  "language_info": {
   "codemirror_mode": {
    "name": "ipython",
    "version": 3
   },
   "file_extension": ".py",
   "mimetype": "text/x-python",
   "name": "python",
   "nbconvert_exporter": "python",
   "pygments_lexer": "ipython3",
   "version": "3.7.4"
  }
 },
 "nbformat": 4,
 "nbformat_minor": 4
}
